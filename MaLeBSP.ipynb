{
  "cells": [
    {
      "cell_type": "markdown",
      "metadata": {
        "id": "view-in-github",
        "colab_type": "text"
      },
      "source": [
        "<a href=\"https://colab.research.google.com/github/catSushiRoll/BSProjek/blob/main/MaLeBSP.ipynb\" target=\"_parent\"><img src=\"https://colab.research.google.com/assets/colab-badge.svg\" alt=\"Open In Colab\"/></a>"
      ]
    },
    {
      "cell_type": "markdown",
      "id": "4ddd40c6",
      "metadata": {
        "id": "4ddd40c6"
      },
      "source": [
        "# Mentahan"
      ]
    },
    {
      "cell_type": "code",
      "source": [
        "from google.colab import drive\n",
        "# When you run this cell, a prompt will appear asking you to authorize Google Drive access.\n",
        "# Click the link, select your Google account, and allow the necessary permissions.\n",
        "# Then, copy the authorization code provided and paste it back into the input box in Colab.\n",
        "drive.mount('/content/drive')"
      ],
      "metadata": {
        "id": "kCoU59X6zo2M",
        "outputId": "2e9ff9c4-d8a7-4157-c4bb-9ba3177f1bc6",
        "colab": {
          "base_uri": "https://localhost:8080/"
        }
      },
      "id": "kCoU59X6zo2M",
      "execution_count": 1,
      "outputs": [
        {
          "output_type": "stream",
          "name": "stdout",
          "text": [
            "Mounted at /content/drive\n"
          ]
        }
      ]
    },
    {
      "cell_type": "code",
      "source": [
        "import os\n",
        "import numpy as np\n",
        "import pandas as pd\n",
        "\n",
        "def read_signal_from_txt(file_path):\n",
        "    with open(file_path, 'r') as f:\n",
        "        data = f.readlines()\n",
        "    data = [float(line.strip()) for line in data]\n",
        "    return data\n",
        "\n",
        "def load_dataset_from_folder(folder_path, label):\n",
        "    rows = []\n",
        "    for filename in sorted(os.listdir(folder_path)):\n",
        "        if filename.endswith('.txt'):\n",
        "            file_path = os.path.join(folder_path, filename)\n",
        "            signal = read_signal_from_txt(file_path)\n",
        "            # Adjust the expected signal length if needed based on your actual data\n",
        "            if len(signal) == 4097 or len(signal) == 4098: # Added 4097 as a possibility based on later code cell\n",
        "                # Only append if the signal is not empty\n",
        "                if signal:\n",
        "                    rows.append([label] + signal)\n",
        "                else:\n",
        "                    print(f\"Warning: File {filename} is empty or contains no valid float data.\")\n",
        "    return rows\n",
        "\n",
        "\n",
        "# Ganti path ke lokasi dataset kamu\n",
        "base_path = \"/content/drive/MyDrive/dataset eeg\"\n",
        "\n",
        "# Folder-folder kategori EEG\n",
        "categories = {\n",
        "    'Z': 0,  # non-epileptic\n",
        "    'O': 0,\n",
        "    'N': 0,\n",
        "    'F': 0,\n",
        "    'S': 1   # epileptic\n",
        "}\n",
        "\n",
        "all_data = []\n",
        "\n",
        "for folder, label in categories.items():\n",
        "    folder_path = os.path.join(base_path, folder)\n",
        "    # Check if the folder exists before trying to list its contents\n",
        "    if os.path.isdir(folder_path):\n",
        "        data = load_dataset_from_folder(folder_path, label)\n",
        "        all_data.extend(data)\n",
        "    else:\n",
        "        print(f\"Warning: Directory not found: {folder_path}\")\n",
        "\n",
        "\n",
        "# Simpan ke CSV\n",
        "df = pd.DataFrame(all_data)\n",
        "\n",
        "# Check if the dataframe is empty before saving\n",
        "if not df.empty:\n",
        "    # Corrected output_path to include a filename\n",
        "    output_path = os.path.join('/content/drive/MyDrive/dataset eeg', 'EEG_epilepsy_dataset.csv')\n",
        "    # Determine the correct number of columns for the header\n",
        "    # It should be 1 for the label + the number of columns in the data part\n",
        "    num_data_cols = df.shape[1] - 1 if df.shape[1] > 0 else 0\n",
        "    header = [\"label\"] + [f\"v{i}\" for i in range(1, num_data_cols + 1)]\n",
        "\n",
        "    # Ensure the header matches the number of columns in the DataFrame\n",
        "    if len(header) == df.shape[1]:\n",
        "        df.to_csv(output_path, index=False, header=header)\n",
        "        print(f\"Konversi selesai. Dataset disimpan di {output_path}\")\n",
        "    else:\n",
        "         print(f\"Error: Header length ({len(header)}) does not match DataFrame columns ({df.shape[1]}). Cannot save CSV.\")\n",
        "\n",
        "else:\n",
        "    print(\"No data was loaded from the specified folders. CSV not saved.\")"
      ],
      "metadata": {
        "id": "EWPLv_EY-xAx",
        "outputId": "1f151c1e-7566-4521-c6c6-16fa5077659c",
        "colab": {
          "base_uri": "https://localhost:8080/"
        }
      },
      "id": "EWPLv_EY-xAx",
      "execution_count": 9,
      "outputs": [
        {
          "output_type": "stream",
          "name": "stdout",
          "text": [
            "Konversi selesai. Dataset disimpan di /content/drive/MyDrive/dataset eeg/EEG_epilepsy_dataset.csv\n"
          ]
        }
      ]
    },
    {
      "cell_type": "code",
      "source": [
        "%pip install tensorflow"
      ],
      "metadata": {
        "id": "z57flpp54h2c",
        "outputId": "2d4c5ff8-2158-4d0e-d7c6-6a817cb0d5aa",
        "colab": {
          "base_uri": "https://localhost:8080/"
        }
      },
      "id": "z57flpp54h2c",
      "execution_count": 10,
      "outputs": [
        {
          "output_type": "stream",
          "name": "stdout",
          "text": [
            "Requirement already satisfied: tensorflow in /usr/local/lib/python3.11/dist-packages (2.18.0)\n",
            "Requirement already satisfied: absl-py>=1.0.0 in /usr/local/lib/python3.11/dist-packages (from tensorflow) (1.4.0)\n",
            "Requirement already satisfied: astunparse>=1.6.0 in /usr/local/lib/python3.11/dist-packages (from tensorflow) (1.6.3)\n",
            "Requirement already satisfied: flatbuffers>=24.3.25 in /usr/local/lib/python3.11/dist-packages (from tensorflow) (25.2.10)\n",
            "Requirement already satisfied: gast!=0.5.0,!=0.5.1,!=0.5.2,>=0.2.1 in /usr/local/lib/python3.11/dist-packages (from tensorflow) (0.6.0)\n",
            "Requirement already satisfied: google-pasta>=0.1.1 in /usr/local/lib/python3.11/dist-packages (from tensorflow) (0.2.0)\n",
            "Requirement already satisfied: libclang>=13.0.0 in /usr/local/lib/python3.11/dist-packages (from tensorflow) (18.1.1)\n",
            "Requirement already satisfied: opt-einsum>=2.3.2 in /usr/local/lib/python3.11/dist-packages (from tensorflow) (3.4.0)\n",
            "Requirement already satisfied: packaging in /usr/local/lib/python3.11/dist-packages (from tensorflow) (24.2)\n",
            "Requirement already satisfied: protobuf!=4.21.0,!=4.21.1,!=4.21.2,!=4.21.3,!=4.21.4,!=4.21.5,<6.0.0dev,>=3.20.3 in /usr/local/lib/python3.11/dist-packages (from tensorflow) (5.29.5)\n",
            "Requirement already satisfied: requests<3,>=2.21.0 in /usr/local/lib/python3.11/dist-packages (from tensorflow) (2.32.3)\n",
            "Requirement already satisfied: setuptools in /usr/local/lib/python3.11/dist-packages (from tensorflow) (75.2.0)\n",
            "Requirement already satisfied: six>=1.12.0 in /usr/local/lib/python3.11/dist-packages (from tensorflow) (1.17.0)\n",
            "Requirement already satisfied: termcolor>=1.1.0 in /usr/local/lib/python3.11/dist-packages (from tensorflow) (3.1.0)\n",
            "Requirement already satisfied: typing-extensions>=3.6.6 in /usr/local/lib/python3.11/dist-packages (from tensorflow) (4.14.0)\n",
            "Requirement already satisfied: wrapt>=1.11.0 in /usr/local/lib/python3.11/dist-packages (from tensorflow) (1.17.2)\n",
            "Requirement already satisfied: grpcio<2.0,>=1.24.3 in /usr/local/lib/python3.11/dist-packages (from tensorflow) (1.72.1)\n",
            "Requirement already satisfied: tensorboard<2.19,>=2.18 in /usr/local/lib/python3.11/dist-packages (from tensorflow) (2.18.0)\n",
            "Requirement already satisfied: keras>=3.5.0 in /usr/local/lib/python3.11/dist-packages (from tensorflow) (3.8.0)\n",
            "Requirement already satisfied: numpy<2.1.0,>=1.26.0 in /usr/local/lib/python3.11/dist-packages (from tensorflow) (2.0.2)\n",
            "Requirement already satisfied: h5py>=3.11.0 in /usr/local/lib/python3.11/dist-packages (from tensorflow) (3.13.0)\n",
            "Requirement already satisfied: ml-dtypes<0.5.0,>=0.4.0 in /usr/local/lib/python3.11/dist-packages (from tensorflow) (0.4.1)\n",
            "Requirement already satisfied: tensorflow-io-gcs-filesystem>=0.23.1 in /usr/local/lib/python3.11/dist-packages (from tensorflow) (0.37.1)\n",
            "Requirement already satisfied: wheel<1.0,>=0.23.0 in /usr/local/lib/python3.11/dist-packages (from astunparse>=1.6.0->tensorflow) (0.45.1)\n",
            "Requirement already satisfied: rich in /usr/local/lib/python3.11/dist-packages (from keras>=3.5.0->tensorflow) (13.9.4)\n",
            "Requirement already satisfied: namex in /usr/local/lib/python3.11/dist-packages (from keras>=3.5.0->tensorflow) (0.1.0)\n",
            "Requirement already satisfied: optree in /usr/local/lib/python3.11/dist-packages (from keras>=3.5.0->tensorflow) (0.16.0)\n",
            "Requirement already satisfied: charset-normalizer<4,>=2 in /usr/local/lib/python3.11/dist-packages (from requests<3,>=2.21.0->tensorflow) (3.4.2)\n",
            "Requirement already satisfied: idna<4,>=2.5 in /usr/local/lib/python3.11/dist-packages (from requests<3,>=2.21.0->tensorflow) (3.10)\n",
            "Requirement already satisfied: urllib3<3,>=1.21.1 in /usr/local/lib/python3.11/dist-packages (from requests<3,>=2.21.0->tensorflow) (2.4.0)\n",
            "Requirement already satisfied: certifi>=2017.4.17 in /usr/local/lib/python3.11/dist-packages (from requests<3,>=2.21.0->tensorflow) (2025.4.26)\n",
            "Requirement already satisfied: markdown>=2.6.8 in /usr/local/lib/python3.11/dist-packages (from tensorboard<2.19,>=2.18->tensorflow) (3.8)\n",
            "Requirement already satisfied: tensorboard-data-server<0.8.0,>=0.7.0 in /usr/local/lib/python3.11/dist-packages (from tensorboard<2.19,>=2.18->tensorflow) (0.7.2)\n",
            "Requirement already satisfied: werkzeug>=1.0.1 in /usr/local/lib/python3.11/dist-packages (from tensorboard<2.19,>=2.18->tensorflow) (3.1.3)\n",
            "Requirement already satisfied: MarkupSafe>=2.1.1 in /usr/local/lib/python3.11/dist-packages (from werkzeug>=1.0.1->tensorboard<2.19,>=2.18->tensorflow) (3.0.2)\n",
            "Requirement already satisfied: markdown-it-py>=2.2.0 in /usr/local/lib/python3.11/dist-packages (from rich->keras>=3.5.0->tensorflow) (3.0.0)\n",
            "Requirement already satisfied: pygments<3.0.0,>=2.13.0 in /usr/local/lib/python3.11/dist-packages (from rich->keras>=3.5.0->tensorflow) (2.19.1)\n",
            "Requirement already satisfied: mdurl~=0.1 in /usr/local/lib/python3.11/dist-packages (from markdown-it-py>=2.2.0->rich->keras>=3.5.0->tensorflow) (0.1.2)\n"
          ]
        }
      ]
    },
    {
      "cell_type": "code",
      "execution_count": null,
      "id": "70c377f8",
      "metadata": {
        "id": "70c377f8"
      },
      "outputs": [],
      "source": [
        "import scipy.io\n",
        "import numpy as np\n",
        "import os\n",
        "from sklearn.model_selection import train_test_split\n",
        "from tensorflow.keras.models import Sequential\n",
        "from tensorflow.keras.layers import Conv1D, MaxPooling1D, Flatten, Dense, Dropout\n",
        "from sklearn.preprocessing import StandardScaler\n",
        "import matplotlib.pyplot as plt\n",
        "\n",
        "# -------------------------------\n",
        "# 1. Load Data from All 5 Sets\n",
        "# -------------------------------\n",
        "\n",
        "def load_data_from_mat(file_path, label):\n",
        "    mat = scipy.io.loadmat(file_path)\n",
        "    data = mat['data']  # Data assumed to be under 'data' key\n",
        "    return data, np.full((data.shape[0],), label)\n",
        "\n",
        "# Path to directory containing the 5 .mat files\n",
        "data_dir = '/content/drive/MyDrive/dataset eeg'  # Ubah sesuai direktori kamu\n",
        "\n",
        "# File names (gunakan nama file asli seperti \"Z.mat\", \"O.mat\", dst.)\n",
        "file_labels = {\n",
        "    'Z.mat': 0,  # non-seizure\n",
        "    'O.mat': 0,\n",
        "    'N.mat': 0,\n",
        "    'F.mat': 0,\n",
        "    'S.mat': 1   # seizure\n",
        "}\n",
        "\n",
        "X, y = [], []\n",
        "\n",
        "for fname, label in file_labels.items():\n",
        "    data, labels = load_data_from_mat(os.path.join(data_dir, fname), label)\n",
        "    X.append(data)\n",
        "    y.append(labels)\n",
        "\n",
        "X = np.vstack(X)\n",
        "y = np.hstack(y)\n",
        "\n",
        "print(\"Data shape:\", X.shape)  # (500, 4097)\n",
        "print(\"Labels shape:\", y.shape)\n",
        "\n",
        "# -------------------------------\n",
        "# 2. Preprocessing\n",
        "# -------------------------------\n",
        "\n",
        "# Normalisasi\n",
        "scaler = StandardScaler()\n",
        "X_scaled = scaler.fit_transform(X)\n",
        "\n",
        "# Reshape untuk CNN input [samples, time steps, channels]\n",
        "X_scaled = X_scaled.reshape(X_scaled.shape[0], X_scaled.shape[1], 1)\n",
        "\n",
        "# Split data\n",
        "X_train, X_test, y_train, y_test = train_test_split(X_scaled, y, test_size=0.2, random_state=42, stratify=y)\n",
        "\n",
        "# -------------------------------\n",
        "# 3. Build CNN Model\n",
        "# -------------------------------\n",
        "\n",
        "model = Sequential([\n",
        "    Conv1D(32, kernel_size=5, activation='relu', input_shape=(4097, 1)),\n",
        "    MaxPooling1D(pool_size=2),\n",
        "\n",
        "    Conv1D(64, kernel_size=5, activation='relu'),\n",
        "    MaxPooling1D(pool_size=2),\n",
        "\n",
        "    Flatten(),\n",
        "    Dense(128, activation='relu'),\n",
        "    Dropout(0.5),\n",
        "    Dense(1, activation='sigmoid')  # Binary classification\n",
        "])\n",
        "\n",
        "model.compile(optimizer='adam', loss='binary_crossentropy', metrics=['accuracy'])\n",
        "\n",
        "# -------------------------------\n",
        "# 4. Train Model\n",
        "# -------------------------------\n",
        "\n",
        "history = model.fit(X_train, y_train, epochs=20, batch_size=16, validation_split=0.2)\n",
        "\n",
        "# -------------------------------\n",
        "# 5. Evaluate Model\n",
        "# -------------------------------\n",
        "\n",
        "loss, accuracy = model.evaluate(X_test, y_test)\n",
        "print(f\"Test Accuracy: {accuracy:.2f}\")\n",
        "\n",
        "# -------------------------------\n",
        "# 6. Visualisasi\n",
        "# -------------------------------\n",
        "\n",
        "plt.plot(history.history['accuracy'], label='Train')\n",
        "plt.plot(history.history['val_accuracy'], label='Val')\n",
        "plt.title(\"CNN Accuracy\")\n",
        "plt.xlabel(\"Epoch\")\n",
        "plt.ylabel(\"Accuracy\")\n",
        "plt.legend()\n",
        "plt.show()\n"
      ]
    },
    {
      "cell_type": "code",
      "source": [
        "import pandas as pd\n",
        "import numpy as np\n",
        "from sklearn.model_selection import train_test_split\n",
        "from tensorflow.keras.models import Sequential\n",
        "from tensorflow.keras.layers import Conv1D, MaxPooling1D, Flatten, Dense, Dropout\n",
        "from tensorflow.keras.utils import to_categorical\n",
        "import matplotlib.pyplot as plt\n",
        "\n",
        "# Baca file CSV yang sudah kamu buat\n",
        "df = pd.read_csv(\"/content/drive/MyDrive/dataset eeg/EEG_epilepsy_dataset.csv\")\n",
        "\n",
        "# Pisahkan fitur dan label\n",
        "X = df.drop('label', axis=1).values  # shape: (200, 4097)\n",
        "y = df['label'].values               # shape: (200,)\n",
        "\n",
        "# Normalisasi: skala ke rentang 0-1\n",
        "X = X / np.max(np.abs(X))\n",
        "\n",
        "# Ubah input jadi [samples, time steps, channels] → CNN 1D\n",
        "X = X.reshape((X.shape[0], X.shape[1], 1))\n",
        "\n",
        "# Kalau klasifikasi 2 kelas, ini tidak wajib dikategorikan, tapi bisa pakai:\n",
        "# y = to_categorical(y)  # jika ingin model output 2 neuron dan softmax\n",
        "\n",
        "X_train, X_test, y_train, y_test = train_test_split(\n",
        "    X, y, test_size=0.2, random_state=42, stratify=y\n",
        ")\n",
        "\n",
        "\n",
        "model = Sequential()\n",
        "model.add(Conv1D(32, kernel_size=7, activation='relu', input_shape=(4097, 1)))\n",
        "model.add(MaxPooling1D(pool_size=2))\n",
        "model.add(Conv1D(64, kernel_size=5, activation='relu'))\n",
        "model.add(MaxPooling1D(pool_size=2))\n",
        "model.add(Flatten())\n",
        "model.add(Dense(64, activation='relu'))\n",
        "model.add(Dropout(0.3))\n",
        "model.add(Dense(1, activation='sigmoid'))  # karena binary classification\n",
        "\n",
        "\n",
        "model.compile(optimizer='adam', loss='binary_crossentropy', metrics=['accuracy'])\n",
        "\n",
        "history = model.fit(X_train, y_train, epochs=20, batch_size=16, validation_split=0.1)\n",
        "\n",
        "loss, acc = model.evaluate(X_test, y_test)\n",
        "print(f\"Akurasi pada data uji: {acc:.2f}\")\n",
        "\n",
        "\n",
        "plt.plot(history.history['accuracy'], label='Train')\n",
        "plt.plot(history.history['val_accuracy'], label='Validation')\n",
        "plt.title('Akurasi Model')\n",
        "plt.xlabel('Epoch')\n",
        "plt.ylabel('Accuracy')\n",
        "plt.legend()\n",
        "plt.show()"
      ],
      "metadata": {
        "id": "z_einB034uKu",
        "outputId": "a259f74b-1938-4b2a-caa7-c208510750f6",
        "colab": {
          "base_uri": "https://localhost:8080/",
          "height": 1000
        }
      },
      "id": "z_einB034uKu",
      "execution_count": 11,
      "outputs": [
        {
          "output_type": "stream",
          "name": "stderr",
          "text": [
            "/usr/local/lib/python3.11/dist-packages/keras/src/layers/convolutional/base_conv.py:107: UserWarning: Do not pass an `input_shape`/`input_dim` argument to a layer. When using Sequential models, prefer using an `Input(shape)` object as the first layer in the model instead.\n",
            "  super().__init__(activity_regularizer=activity_regularizer, **kwargs)\n"
          ]
        },
        {
          "output_type": "stream",
          "name": "stdout",
          "text": [
            "Epoch 1/20\n",
            "\u001b[1m18/18\u001b[0m \u001b[32m━━━━━━━━━━━━━━━━━━━━\u001b[0m\u001b[37m\u001b[0m \u001b[1m3s\u001b[0m 108ms/step - accuracy: 0.7656 - loss: 0.5144 - val_accuracy: 0.9062 - val_loss: 0.3553\n",
            "Epoch 2/20\n",
            "\u001b[1m18/18\u001b[0m \u001b[32m━━━━━━━━━━━━━━━━━━━━\u001b[0m\u001b[37m\u001b[0m \u001b[1m3s\u001b[0m 124ms/step - accuracy: 0.9440 - loss: 0.2246 - val_accuracy: 0.9375 - val_loss: 0.1470\n",
            "Epoch 3/20\n",
            "\u001b[1m18/18\u001b[0m \u001b[32m━━━━━━━━━━━━━━━━━━━━\u001b[0m\u001b[37m\u001b[0m \u001b[1m2s\u001b[0m 87ms/step - accuracy: 0.9826 - loss: 0.0615 - val_accuracy: 0.9062 - val_loss: 0.2702\n",
            "Epoch 4/20\n",
            "\u001b[1m18/18\u001b[0m \u001b[32m━━━━━━━━━━━━━━━━━━━━\u001b[0m\u001b[37m\u001b[0m \u001b[1m1s\u001b[0m 82ms/step - accuracy: 0.9876 - loss: 0.0296 - val_accuracy: 0.9688 - val_loss: 0.0780\n",
            "Epoch 5/20\n",
            "\u001b[1m18/18\u001b[0m \u001b[32m━━━━━━━━━━━━━━━━━━━━\u001b[0m\u001b[37m\u001b[0m \u001b[1m3s\u001b[0m 84ms/step - accuracy: 0.9952 - loss: 0.0217 - val_accuracy: 0.9375 - val_loss: 0.2288\n",
            "Epoch 6/20\n",
            "\u001b[1m18/18\u001b[0m \u001b[32m━━━━━━━━━━━━━━━━━━━━\u001b[0m\u001b[37m\u001b[0m \u001b[1m2s\u001b[0m 83ms/step - accuracy: 0.9911 - loss: 0.0248 - val_accuracy: 0.9375 - val_loss: 0.3956\n",
            "Epoch 7/20\n",
            "\u001b[1m18/18\u001b[0m \u001b[32m━━━━━━━━━━━━━━━━━━━━\u001b[0m\u001b[37m\u001b[0m \u001b[1m1s\u001b[0m 82ms/step - accuracy: 0.9866 - loss: 0.0338 - val_accuracy: 0.9375 - val_loss: 0.2756\n",
            "Epoch 8/20\n",
            "\u001b[1m18/18\u001b[0m \u001b[32m━━━━━━━━━━━━━━━━━━━━\u001b[0m\u001b[37m\u001b[0m \u001b[1m1s\u001b[0m 81ms/step - accuracy: 1.0000 - loss: 0.0079 - val_accuracy: 0.9375 - val_loss: 0.1636\n",
            "Epoch 9/20\n",
            "\u001b[1m18/18\u001b[0m \u001b[32m━━━━━━━━━━━━━━━━━━━━\u001b[0m\u001b[37m\u001b[0m \u001b[1m3s\u001b[0m 103ms/step - accuracy: 1.0000 - loss: 0.0055 - val_accuracy: 0.9375 - val_loss: 0.2090\n",
            "Epoch 10/20\n",
            "\u001b[1m18/18\u001b[0m \u001b[32m━━━━━━━━━━━━━━━━━━━━\u001b[0m\u001b[37m\u001b[0m \u001b[1m2s\u001b[0m 79ms/step - accuracy: 1.0000 - loss: 0.0010 - val_accuracy: 0.9375 - val_loss: 0.2144\n",
            "Epoch 11/20\n",
            "\u001b[1m18/18\u001b[0m \u001b[32m━━━━━━━━━━━━━━━━━━━━\u001b[0m\u001b[37m\u001b[0m \u001b[1m3s\u001b[0m 82ms/step - accuracy: 1.0000 - loss: 6.8995e-04 - val_accuracy: 0.9375 - val_loss: 0.2244\n",
            "Epoch 12/20\n",
            "\u001b[1m18/18\u001b[0m \u001b[32m━━━━━━━━━━━━━━━━━━━━\u001b[0m\u001b[37m\u001b[0m \u001b[1m1s\u001b[0m 80ms/step - accuracy: 1.0000 - loss: 8.7529e-04 - val_accuracy: 0.9375 - val_loss: 0.2236\n",
            "Epoch 13/20\n",
            "\u001b[1m18/18\u001b[0m \u001b[32m━━━━━━━━━━━━━━━━━━━━\u001b[0m\u001b[37m\u001b[0m \u001b[1m1s\u001b[0m 82ms/step - accuracy: 1.0000 - loss: 6.3067e-04 - val_accuracy: 0.9375 - val_loss: 0.2234\n",
            "Epoch 14/20\n",
            "\u001b[1m18/18\u001b[0m \u001b[32m━━━━━━━━━━━━━━━━━━━━\u001b[0m\u001b[37m\u001b[0m \u001b[1m1s\u001b[0m 81ms/step - accuracy: 1.0000 - loss: 4.6744e-04 - val_accuracy: 0.9375 - val_loss: 0.2339\n",
            "Epoch 15/20\n",
            "\u001b[1m18/18\u001b[0m \u001b[32m━━━━━━━━━━━━━━━━━━━━\u001b[0m\u001b[37m\u001b[0m \u001b[1m2s\u001b[0m 118ms/step - accuracy: 1.0000 - loss: 0.0010 - val_accuracy: 0.9375 - val_loss: 0.2262\n",
            "Epoch 16/20\n",
            "\u001b[1m18/18\u001b[0m \u001b[32m━━━━━━━━━━━━━━━━━━━━\u001b[0m\u001b[37m\u001b[0m \u001b[1m2s\u001b[0m 101ms/step - accuracy: 1.0000 - loss: 6.7197e-04 - val_accuracy: 0.9375 - val_loss: 0.2063\n",
            "Epoch 17/20\n",
            "\u001b[1m18/18\u001b[0m \u001b[32m━━━━━━━━━━━━━━━━━━━━\u001b[0m\u001b[37m\u001b[0m \u001b[1m2s\u001b[0m 88ms/step - accuracy: 1.0000 - loss: 2.6634e-04 - val_accuracy: 0.9375 - val_loss: 0.2284\n",
            "Epoch 18/20\n",
            "\u001b[1m18/18\u001b[0m \u001b[32m━━━━━━━━━━━━━━━━━━━━\u001b[0m\u001b[37m\u001b[0m \u001b[1m3s\u001b[0m 88ms/step - accuracy: 1.0000 - loss: 1.9887e-04 - val_accuracy: 0.9375 - val_loss: 0.2479\n",
            "Epoch 19/20\n",
            "\u001b[1m18/18\u001b[0m \u001b[32m━━━━━━━━━━━━━━━━━━━━\u001b[0m\u001b[37m\u001b[0m \u001b[1m2s\u001b[0m 88ms/step - accuracy: 1.0000 - loss: 3.7360e-04 - val_accuracy: 0.9375 - val_loss: 0.1822\n",
            "Epoch 20/20\n",
            "\u001b[1m18/18\u001b[0m \u001b[32m━━━━━━━━━━━━━━━━━━━━\u001b[0m\u001b[37m\u001b[0m \u001b[1m3s\u001b[0m 86ms/step - accuracy: 1.0000 - loss: 1.7808e-04 - val_accuracy: 0.9375 - val_loss: 0.1729\n",
            "\u001b[1m3/3\u001b[0m \u001b[32m━━━━━━━━━━━━━━━━━━━━\u001b[0m\u001b[37m\u001b[0m \u001b[1m0s\u001b[0m 51ms/step - accuracy: 0.9898 - loss: 0.0556\n",
            "Akurasi pada data uji: 0.99\n"
          ]
        },
        {
          "output_type": "display_data",
          "data": {
            "text/plain": [
              "<Figure size 640x480 with 1 Axes>"
            ],
            "image/png": "[encoded data removed]"
          },
          "metadata": {}
        }
      ]
    }
  ],
  "metadata": {
    "language_info": {
      "name": "python"
    },
    "colab": {
      "provenance": [],
      "include_colab_link": true
    },
    "kernelspec": {
      "name": "python3",
      "display_name": "Python 3"
    }
  },
  "nbformat": 4,
  "nbformat_minor": 5
}